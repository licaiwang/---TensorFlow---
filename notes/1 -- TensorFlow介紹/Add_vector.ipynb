{
 "cells": [
  {
   "cell_type": "code",
   "execution_count": 31,
   "metadata": {},
   "outputs": [
    {
     "name": "stdout",
     "output_type": "stream",
     "text": [
      "[3 3 8 7]\n",
      "[3 3 8 7]\n"
     ]
    }
   ],
   "source": [
    "import tensorflow as tf\n",
    "\n",
    "# Session與許執行Graph或Graph的一部分。 它分配資源（在一台或多台機器上），並保存中間結果和變量的實際值\n",
    "sess = tf.compat.v1.Session()\n",
    "\n",
    "# 定義向量\n",
    "v_1 = tf.constant([1, 2, 3, 4])\n",
    "v_2 = tf.constant([2, 1, 5, 3])\n",
    "v_add = tf.add(v_1, v_2)  # 或者 v_add = v_1 + v_2\n",
    "\n",
    "print(sess.run(v_add))\n",
    " \n",
    "# 使用 with，默認结束後自動close. 如果不用 with，就要對 Session 進行 sess.close()\n",
    "# with tf.Session() as sess:\n",
    "#     print(sess.run(v_add))\n",
    "\n",
    "# 使用 InteractiveSession() 執行，會直接定義為默認圖，所以不需要調用 session，比如下述中没有 run 方法\n",
    "sess = tf.compat.v1.InteractiveSession()\n",
    "\n",
    "v_1 = tf.constant([1, 2, 3, 4])\n",
    "v_2 = tf.constant([2, 1, 5, 3])\n",
    "v_add = v_1 + v_2\n",
    "print(v_add.eval()) # 但還是等價於 sess.run(v_add)\n",
    "\n",
    "sess.close()"
   ]
  }
 ],
 "metadata": {
  "kernelspec": {
   "display_name": "Python 3",
   "language": "python",
   "name": "python3"
  },
  "language_info": {
   "codemirror_mode": {
    "name": "ipython",
    "version": 3
   },
   "file_extension": ".py",
   "mimetype": "text/x-python",
   "name": "python",
   "nbconvert_exporter": "python",
   "pygments_lexer": "ipython3",
   "version": "3.7.4"
  }
 },
 "nbformat": 4,
 "nbformat_minor": 2
}
