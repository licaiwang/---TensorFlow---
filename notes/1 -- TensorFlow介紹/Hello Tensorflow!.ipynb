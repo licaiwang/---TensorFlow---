{
 "cells": [
  {
   "cell_type": "code",
   "execution_count": 20,
   "metadata": {},
   "outputs": [
    {
     "name": "stdout",
     "output_type": "stream",
     "text": [
      "歡迎來到 Tensorflow 2.0 \n"
     ]
    }
   ],
   "source": [
    "import tensorflow as tf\n",
    "import os\n",
    "message = tf.constant('歡迎來到 Tensorflow 2.0 ')\n",
    "with tf.compat.v1.Session() as sess:\n",
    "    print(sess.run(message).decode())"
   ]
  },
  {
   "cell_type": "code",
   "execution_count": 21,
   "metadata": {},
   "outputs": [
    {
     "name": "stdout",
     "output_type": "stream",
     "text": [
      "歡迎來到 Tensorflow 2.0\n"
     ]
    }
   ],
   "source": [
    "#TensorFlow 引入了「Eager Execution」，它是一個命令式、由執行定義的介面，一旦從 Python 被呼叫，其操作立即被執行。這使得入門 TensorFlow 變的更簡單，也使研發更直觀\n",
    "tf.compat.v1.disable_eager_execution()\n",
    "message = tf.constant('歡迎來到 Tensorflow 2.0')\n",
    "sess = tf.compat.v1.Session()\n",
    "print(sess.run(message).decode())"
   ]
  },
  {
   "cell_type": "code",
   "execution_count": 22,
   "metadata": {},
   "outputs": [
    {
     "name": "stdout",
     "output_type": "stream",
     "text": [
      "歡迎來到 Tensorflow 2.0\n"
     ]
    }
   ],
   "source": [
    "# 不輸出相關的警告消息\n",
    "os.environ['TF_CPP_MIN_LOG_LEVEL']='2'\n",
    "message = tf.constant('歡迎來到 Tensorflow 2.0')\n",
    "with tf.compat.v1.Session() as sess:\n",
    "    print(sess.run(message).decode())"
   ]
  },
  {
   "cell_type": "code",
   "execution_count": null,
   "metadata": {},
   "outputs": [],
   "source": []
  }
 ],
 "metadata": {
  "kernelspec": {
   "display_name": "Python 3",
   "language": "python",
   "name": "python3"
  },
  "language_info": {
   "codemirror_mode": {
    "name": "ipython",
    "version": 3
   },
   "file_extension": ".py",
   "mimetype": "text/x-python",
   "name": "python",
   "nbconvert_exporter": "python",
   "pygments_lexer": "ipython3",
   "version": "3.7.4"
  }
 },
 "nbformat": 4,
 "nbformat_minor": 2
}
