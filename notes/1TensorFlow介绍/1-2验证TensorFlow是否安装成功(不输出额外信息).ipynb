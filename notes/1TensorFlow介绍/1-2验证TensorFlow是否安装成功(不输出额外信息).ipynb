{
 "cells": [
  {
   "cell_type": "code",
   "execution_count": 3,
   "metadata": {
    "collapsed": true
   },
   "outputs": [],
   "source": [
    "# Summary:  验证TensorFlow是否安装成功，不输出相关的警告消息和硬件信息消息\n",
    "# Author:   Amusi\n",
    "# Date:     2018-03-25"
   ]
  },
  {
   "cell_type": "code",
   "execution_count": 6,
   "metadata": {
    "collapsed": false
   },
   "outputs": [
    {
     "name": "stdout",
     "output_type": "stream",
     "text": [
      "欢迎来到深度神经网络的世界！\n"
     ]
    }
   ],
   "source": [
    "import tensorflow as tf\n",
    "# 不输出相关的警告消息和硬件信息消息\n",
    "import os\n",
    "os.environ['TF_CPP_MIN_LOG_LEVEL']='2'\n",
    "message = tf.constant('欢迎来到深度神经网络的世界！')\n",
    "with tf.Session() as sess:\n",
    "    print(sess.run(message).decode())"
   ]
  }
 ],
 "metadata": {
  "anaconda-cloud": {},
  "kernelspec": {
   "display_name": "Python [default]",
   "language": "python",
   "name": "python3"
  },
  "language_info": {
   "codemirror_mode": {
    "name": "ipython",
    "version": 3
   },
   "file_extension": ".py",
   "mimetype": "text/x-python",
   "name": "python",
   "nbconvert_exporter": "python",
   "pygments_lexer": "ipython3",
   "version": "3.5.2"
  }
 },
 "nbformat": 4,
 "nbformat_minor": 1
}
